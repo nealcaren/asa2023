{
 "cells": [
  {
   "cell_type": "code",
   "execution_count": 2,
   "id": "33420744",
   "metadata": {},
   "outputs": [],
   "source": [
    "#!pip install nomic"
   ]
  },
  {
   "cell_type": "code",
   "execution_count": 3,
   "id": "83d4f34b",
   "metadata": {},
   "outputs": [],
   "source": [
    "import pandas as pd\n",
    "from nomic import atlas"
   ]
  },
  {
   "cell_type": "code",
   "execution_count": 4,
   "id": "5881b59e",
   "metadata": {},
   "outputs": [],
   "source": [
    "df = pd.read_csv('data/asa_2023_schedule.csv')"
   ]
  },
  {
   "cell_type": "code",
   "execution_count": 5,
   "id": "16d3ae94",
   "metadata": {},
   "outputs": [],
   "source": [
    "# combine columns for display\n",
    "\n",
    "def concat_date(row):\n",
    "    return f'''{row['weekday']}, {row['date']}, {row['time']}'''\n",
    "\n",
    "def concat_location(row):\n",
    "    return f'''{row['building']}, {row['floor']}, {row['room']}'''\n",
    "\n",
    "def concat_session(row):\n",
    "    return f'''{row['session']}\\n{row['roundtable']}'''.rstrip('\\nnan')\n",
    "\n",
    "df['where'] = df.apply(concat_location, axis=1)\n",
    "df['when'] = df.apply(concat_date, axis=1)\n",
    "df['what'] = df.apply(concat_session, axis=1)"
   ]
  },
  {
   "cell_type": "code",
   "execution_count": 6,
   "id": "1646252a",
   "metadata": {},
   "outputs": [],
   "source": [
    "keep = ['title', 'authors', 'abstract', 'sponsor', 'what', 'when', 'where']\n",
    "dataset = df[keep].to_dict(orient='records')"
   ]
  },
  {
   "cell_type": "code",
   "execution_count": 9,
   "id": "9574f904",
   "metadata": {},
   "outputs": [
    {
     "name": "stderr",
     "output_type": "stream",
     "text": [
      "\u001b[32m2023-06-18 15:30:49.856\u001b[0m | \u001b[1mINFO    \u001b[0m | \u001b[36mnomic.project\u001b[0m:\u001b[36m__init__\u001b[0m:\u001b[36m1006\u001b[0m - \u001b[1mFound existing project `ASA 2023` in organization `neal.caren`. Clearing it of data by request.\u001b[0m\n",
      "\u001b[32m2023-06-18 15:30:52.588\u001b[0m | \u001b[1mINFO    \u001b[0m | \u001b[36mnomic.project\u001b[0m:\u001b[36m_create_project\u001b[0m:\u001b[36m1100\u001b[0m - \u001b[1mCreating project `ASA 2023` in organization `neal.caren`\u001b[0m\n",
      "\u001b[32m2023-06-18 15:30:54.628\u001b[0m | \u001b[1mINFO    \u001b[0m | \u001b[36mnomic.atlas\u001b[0m:\u001b[36mmap_text\u001b[0m:\u001b[36m214\u001b[0m - \u001b[1mUploading text to Atlas.\u001b[0m\n",
      "2it [00:03,  1.87s/it]                                                          \n",
      "\u001b[32m2023-06-18 15:30:58.391\u001b[0m | \u001b[1mINFO    \u001b[0m | \u001b[36mnomic.project\u001b[0m:\u001b[36m_add_data\u001b[0m:\u001b[36m1722\u001b[0m - \u001b[1mUpload succeeded.\u001b[0m\n",
      "\u001b[32m2023-06-18 15:30:58.392\u001b[0m | \u001b[1mINFO    \u001b[0m | \u001b[36mnomic.atlas\u001b[0m:\u001b[36mmap_text\u001b[0m:\u001b[36m230\u001b[0m - \u001b[1mText upload succeeded.\u001b[0m\n",
      "\u001b[32m2023-06-18 15:31:00.107\u001b[0m | \u001b[1mINFO    \u001b[0m | \u001b[36mnomic.project\u001b[0m:\u001b[36mcreate_index\u001b[0m:\u001b[36m1427\u001b[0m - \u001b[1mCreated map `ASA 2023` in project `ASA 2023`: https://atlas.nomic.ai/map/d448f2d8-e132-48b4-989b-35a0ec8802af/f8f9d37b-07a1-4261-805d-8b3fa27f7302\u001b[0m\n",
      "\u001b[32m2023-06-18 15:31:00.109\u001b[0m | \u001b[1mINFO    \u001b[0m | \u001b[36mnomic.atlas\u001b[0m:\u001b[36mmap_text\u001b[0m:\u001b[36m246\u001b[0m - \u001b[1mASA 2023: https://atlas.nomic.ai/map/d448f2d8-e132-48b4-989b-35a0ec8802af/f8f9d37b-07a1-4261-805d-8b3fa27f7302\u001b[0m\n"
     ]
    }
   ],
   "source": [
    "project = atlas.map_text(data = dataset,\n",
    "                         reset_project_if_exists = True,\n",
    "                         description=\"ASA presentations mapped.\",\n",
    "                         name = \"ASA 2023\",\n",
    "                         indexed_field ='abstract',\n",
    "                        )"
   ]
  },
  {
   "cell_type": "code",
   "execution_count": null,
   "id": "375ea588",
   "metadata": {},
   "outputs": [],
   "source": []
  }
 ],
 "metadata": {
  "kernelspec": {
   "display_name": "Python 3 (ipykernel)",
   "language": "python",
   "name": "python3"
  },
  "language_info": {
   "codemirror_mode": {
    "name": "ipython",
    "version": 3
   },
   "file_extension": ".py",
   "mimetype": "text/x-python",
   "name": "python",
   "nbconvert_exporter": "python",
   "pygments_lexer": "ipython3",
   "version": "3.10.9"
  }
 },
 "nbformat": 4,
 "nbformat_minor": 5
}
